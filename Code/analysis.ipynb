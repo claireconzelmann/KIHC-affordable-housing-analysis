{
 "cells": [
  {
   "cell_type": "code",
   "execution_count": 3,
   "metadata": {},
   "outputs": [],
   "source": [
    "import pandas as pd\n",
    "import geopandas as gpd\n",
    "import os\n",
    "\n",
    "path = \"/Users/claireconzelmann/Documents/GitHub/KIHC-affordable-housing-analysis\"\n",
    "tif_districts_gdf = gpd.read_file(os.path.join(path, \"Data/Processed/tif_districts.shp\"))\n",
    "metra_lines_gdf = gpd.read_file(os.path.join(path, \"Data/Raw/MetraLinesshp.shp\"))\n",
    "l_lines = pd.read_csv(os.path.join(path, \"Data/Raw/CTA_l_lines.csv\"))\n",
    "bus_routes_gdf = gpd.read_file(os.path.join(path, \"Data/Processed/bus_routes.shp\"))\n",
    "etod_lots_tifs = gpd.read_file(os.path.join(path, \"Data/Processed/etod_lots_tifs.shp\"))\n",
    "neighborhoods = pd.read_csv(os.path.join(path, \"Data/Raw/Neighborhoods.csv\"))"
   ]
  },
  {
   "cell_type": "code",
   "execution_count": 17,
   "metadata": {},
   "outputs": [],
   "source": [
    "#calculate number of lots by zone and by neighborhood\n",
    "lots_by_zone_neigh = etod_lots_tifs.groupby([\"Community\", \"zoning\"]).size().reset_index(name=\"n_lots\")\n",
    "\n",
    "#calculate number of lots by neighborhood\n",
    "lots_by_neigh = etod_lots_tifs.groupby([\"Community\"]).size().reset_index(name=\"n_lots_neigh\")\n",
    "\n",
    "#calculate number of lots by zone category and neighborhood\n",
    "lots_by_zone_cat = etod_lots_tifs.groupby([\"Community\", \"zone_cat\"]).size().reset_index(name=\"n_lots_cat\")\n"
   ]
  },
  {
   "cell_type": "code",
   "execution_count": 18,
   "metadata": {},
   "outputs": [],
   "source": [
    "#create broader category for zones\n",
    "zone_cats = {\"B-Business\":\"B\", \n",
    "             \"C-Commercial\":\"C\",\n",
    "             \"D-Downtown\": \"D\",\n",
    "             \"PD-Planned Development\":\"PD\",\n",
    "             \"R-Residential\":\"R\"}\n",
    "\n",
    "def map_category(item):\n",
    "    for key, value in zone_cats.items():\n",
    "        if item.startswith(value):  # Check if item starts with dictionary value\n",
    "            return key\n",
    "    return \"Unknown\"  # Default value if no match is found\n",
    "\n",
    "lots_by_zone_neigh[\"zone_cat\"] = lots_by_zone_neigh[\"zoning\"].apply(map_category)"
   ]
  },
  {
   "cell_type": "code",
   "execution_count": 20,
   "metadata": {},
   "outputs": [],
   "source": [
    "#merge all counts together\n",
    "n_lots_neigh_zone = pd.merge(lots_by_zone_neigh, lots_by_neigh, on=\"Community\", how=\"outer\")\n",
    "n_lots_neigh_zone = pd.merge(n_lots_neigh_zone, lots_by_zone_cat, on=[\"Community\", \"zone_cat\"], how=\"outer\")\n",
    "n_lots_neigh_zone = n_lots_neigh_zone.sort_values(by=[\"Community\", \"zoning\"])"
   ]
  },
  {
   "cell_type": "code",
   "execution_count": 21,
   "metadata": {},
   "outputs": [],
   "source": [
    "n_lots_neigh_zone.to_csv(os.path.join(path, \"Data/Processed/vacant_lots_zone_counts.csv\"))"
   ]
  }
 ],
 "metadata": {
  "kernelspec": {
   "display_name": ".venv",
   "language": "python",
   "name": "python3"
  },
  "language_info": {
   "codemirror_mode": {
    "name": "ipython",
    "version": 3
   },
   "file_extension": ".py",
   "mimetype": "text/x-python",
   "name": "python",
   "nbconvert_exporter": "python",
   "pygments_lexer": "ipython3",
   "version": "3.9.6"
  }
 },
 "nbformat": 4,
 "nbformat_minor": 2
}
