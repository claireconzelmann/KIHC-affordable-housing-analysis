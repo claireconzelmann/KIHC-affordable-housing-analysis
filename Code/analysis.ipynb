{
 "cells": [
  {
   "cell_type": "code",
   "execution_count": 32,
   "metadata": {},
   "outputs": [],
   "source": [
    "import pandas as pd\n",
    "import geopandas as gpd\n",
    "import os\n",
    "import numpy as np\n",
    "\n",
    "path = \"/Users/claireconzelmann/Documents/GitHub/KIHC-affordable-housing-analysis\"\n",
    "tif_districts_gdf = gpd.read_file(os.path.join(path, \"Data/Processed/tif_districts.shp\"))\n",
    "metra_lines_gdf = gpd.read_file(os.path.join(path, \"Data/Raw/MetraLinesshp.shp\"))\n",
    "l_lines = pd.read_csv(os.path.join(path, \"Data/Raw/CTA_l_lines.csv\"))\n",
    "bus_routes_gdf = gpd.read_file(os.path.join(path, \"Data/Processed/bus_routes.shp\"))\n",
    "etod_lots_tifs = gpd.read_file(os.path.join(path, \"Data/Processed/etod_lots_tifs.shp\"))\n",
    "neighborhoods = pd.read_csv(os.path.join(path, \"Data/Raw/Neighborhoods.csv\"))\n",
    "unit_area = pd.read_csv(os.path.join(path, \"Data/Raw/zone min unit area.csv\"))"
   ]
  },
  {
   "cell_type": "code",
   "execution_count": 33,
   "metadata": {},
   "outputs": [],
   "source": [
    "#merge FAR and min unit area info\n",
    "etod_lots_tifs.replace({\"sq_ft\": 0.0}, np.nan, inplace=True)\n",
    "etod_lots_tifs = pd.merge(etod_lots_tifs, unit_area, on=\"zoning\", how=\"outer\")"
   ]
  },
  {
   "cell_type": "code",
   "execution_count": 34,
   "metadata": {},
   "outputs": [],
   "source": [
    "#assume 20% of all lot square footage cannot be used for unit calculation\n",
    "etod_lots_tifs[\"sq_ft_rentable\"] = etod_lots_tifs[\"sq_ft\"]*0.8\n",
    "\n",
    "#update sqft based on far\n",
    "etod_lots_tifs[\"sq_ft_far\"] = etod_lots_tifs[\"sq_ft_rentable\"]*etod_lots_tifs[\"FAR\"]\n",
    "\n",
    "#for non residential zoned lots, calculate sq footage above ground floor\n",
    "etod_lots_tifs[\"sq_ft_residential\"] = np.where((etod_lots_tifs[\"zone_cat\"]==\"B-Business\") |\n",
    "                                               (etod_lots_tifs[\"zone_cat\"]==\"C-Commercial\"), \n",
    "                                               etod_lots_tifs[\"sq_ft_far\"] - etod_lots_tifs[\"sq_ft_rentable\"], \n",
    "                                               etod_lots_tifs[\"sq_ft_far\"])\n",
    "\n",
    "#assume 720 sq. ft. average unit size unless min unit size is larger\n",
    "etod_lots_tifs[\"avg_unit_size\"] = np.where(etod_lots_tifs[\"lot_area_per_unit\"] > 720, \n",
    "                                           etod_lots_tifs[\"lot_area_per_unit\"], 720)"
   ]
  },
  {
   "cell_type": "code",
   "execution_count": 35,
   "metadata": {},
   "outputs": [],
   "source": [
    "# calculate estimate of number of units per lot\n",
    "# 0 units if residential eligible sq ft is smaller than minimum unit size\n",
    "etod_lots_tifs[\"n_units\"] = np.where(etod_lots_tifs[\"avg_unit_size\"] > etod_lots_tifs[\"sq_ft_residential\"], 0, np.nan)\n",
    "\n",
    "# divide residential eligible sq ft by average unit size for all others and round down\n",
    "etod_lots_tifs[\"n_units\"] = np.where(etod_lots_tifs[\"n_units\"].isna(), \n",
    "                                     np.floor(etod_lots_tifs[\"sq_ft_residential\"]/etod_lots_tifs[\"avg_unit_size\"]), \n",
    "                                     etod_lots_tifs[\"n_units\"])\n",
    "\n",
    "# 1 unit for single family\n",
    "etod_lots_tifs[\"n_units\"] = np.where(etod_lots_tifs[\"zoning\"].isin([\"RS-1\", \"RS-2\", \"RS-3\"]), 1, etod_lots_tifs[\"n_units\"])"
   ]
  },
  {
   "cell_type": "code",
   "execution_count": 36,
   "metadata": {},
   "outputs": [],
   "source": [
    "# calculate average number of units by zone to impute for lots missing sqft info\n",
    "avg_units_zone = etod_lots_tifs.groupby(\"zoning\")[\"n_units\"].mean().reset_index(name=\"imputed_n_units\")\n",
    "etod_lots_tifs = pd.merge(etod_lots_tifs, avg_units_zone, on=\"zoning\", how=\"outer\")\n",
    "\n",
    "# impute\n",
    "etod_lots_tifs[\"n_units\"] = np.where(etod_lots_tifs[\"n_units\"].isna(), \n",
    "                                     np.floor(etod_lots_tifs[\"imputed_n_units\"]),\n",
    "                                     etod_lots_tifs[\"n_units\"])"
   ]
  },
  {
   "cell_type": "code",
   "execution_count": 37,
   "metadata": {},
   "outputs": [
    {
     "data": {
      "text/plain": [
       "np.float64(35287.0)"
      ]
     },
     "execution_count": 37,
     "metadata": {},
     "output_type": "execute_result"
    }
   ],
   "source": [
    "etod_lots_tifs[\"n_units\"].sum(skipna=True)"
   ]
  },
  {
   "cell_type": "code",
   "execution_count": 17,
   "metadata": {},
   "outputs": [],
   "source": [
    "#calculate number of lots by zone and by neighborhood\n",
    "lots_by_zone_neigh = etod_lots_tifs.groupby([\"Community\", \"zoning\"]).size().reset_index(name=\"n_lots\")\n",
    "\n",
    "#calculate number of lots by neighborhood\n",
    "lots_by_neigh = etod_lots_tifs.groupby([\"Community\"]).size().reset_index(name=\"n_lots_neigh\")\n",
    "\n",
    "#calculate number of lots by zone category and neighborhood\n",
    "lots_by_zone_cat = etod_lots_tifs.groupby([\"Community\", \"zone_cat\"]).size().reset_index(name=\"n_lots_cat\")\n"
   ]
  },
  {
   "cell_type": "code",
   "execution_count": 18,
   "metadata": {},
   "outputs": [],
   "source": [
    "#create broader category for zones\n",
    "zone_cats = {\"B-Business\":\"B\", \n",
    "             \"C-Commercial\":\"C\",\n",
    "             \"D-Downtown\": \"D\",\n",
    "             \"PD-Planned Development\":\"PD\",\n",
    "             \"R-Residential\":\"R\"}\n",
    "\n",
    "def map_category(item):\n",
    "    for key, value in zone_cats.items():\n",
    "        if item.startswith(value):  # Check if item starts with dictionary value\n",
    "            return key\n",
    "    return \"Unknown\"  # Default value if no match is found\n",
    "\n",
    "lots_by_zone_neigh[\"zone_cat\"] = lots_by_zone_neigh[\"zoning\"].apply(map_category)"
   ]
  },
  {
   "cell_type": "code",
   "execution_count": 20,
   "metadata": {},
   "outputs": [],
   "source": [
    "#merge all counts together\n",
    "n_lots_neigh_zone = pd.merge(lots_by_zone_neigh, lots_by_neigh, on=\"Community\", how=\"outer\")\n",
    "n_lots_neigh_zone = pd.merge(n_lots_neigh_zone, lots_by_zone_cat, on=[\"Community\", \"zone_cat\"], how=\"outer\")\n",
    "n_lots_neigh_zone = n_lots_neigh_zone.sort_values(by=[\"Community\", \"zoning\"])"
   ]
  },
  {
   "cell_type": "code",
   "execution_count": 21,
   "metadata": {},
   "outputs": [],
   "source": [
    "n_lots_neigh_zone.to_csv(os.path.join(path, \"Data/Processed/vacant_lots_zone_counts.csv\"))"
   ]
  }
 ],
 "metadata": {
  "kernelspec": {
   "display_name": ".venv",
   "language": "python",
   "name": "python3"
  },
  "language_info": {
   "codemirror_mode": {
    "name": "ipython",
    "version": 3
   },
   "file_extension": ".py",
   "mimetype": "text/x-python",
   "name": "python",
   "nbconvert_exporter": "python",
   "pygments_lexer": "ipython3",
   "version": "3.9.6"
  }
 },
 "nbformat": 4,
 "nbformat_minor": 2
}
