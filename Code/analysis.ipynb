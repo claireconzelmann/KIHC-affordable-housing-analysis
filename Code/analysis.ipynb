{
 "cells": [
  {
   "cell_type": "code",
   "execution_count": 41,
   "metadata": {},
   "outputs": [],
   "source": [
    "import pandas as pd\n",
    "import geopandas as gpd\n",
    "import os\n",
    "import numpy as np\n",
    "\n",
    "path = os.path.dirname(os.getcwd())\n",
    "\n",
    "tif_districts_gdf = gpd.read_file(os.path.join(path, \"Data/Processed/tif_districts.shp\"))\n",
    "metra_lines_gdf = gpd.read_file(os.path.join(path, \"Data/Raw/MetraLinesshp.shp\"))\n",
    "l_lines = pd.read_csv(os.path.join(path, \"Data/Raw/CTA_l_lines.csv\"))\n",
    "bus_routes_gdf = gpd.read_file(os.path.join(path, \"Data/Processed/bus_routes.shp\"))\n",
    "etod_lots_tifs = gpd.read_file(os.path.join(path, \"Data/Processed/etod_lots_tifs.shp\"))\n",
    "neighborhoods = pd.read_csv(os.path.join(path, \"Data/Raw/Neighborhoods.csv\"))\n",
    "unit_area = pd.read_csv(os.path.join(path, \"Data/Raw/zone min unit area.csv\"))\n",
    "\n",
    "sale_buildings_gdf = gpd.read_file(os.path.join(path, \"Data/Processed/sale_buildings.shp\"))\n",
    "vacant_buildings_gdf = gpd.read_file(os.path.join(path, \"Data/Processed/vacant_buildings.shp\"))\n",
    "merged_neighborhoods_gdf = gpd.read_file(os.path.join(path, \"Data/Processed/neighborhood_level.shp\"))"
   ]
  },
  {
   "cell_type": "code",
   "execution_count": 29,
   "metadata": {},
   "outputs": [],
   "source": [
    "#merge FAR and min unit area info\n",
    "etod_lots_tifs.replace({\"sq_ft\": 0.0}, np.nan, inplace=True)\n",
    "etod_lots_tifs = pd.merge(etod_lots_tifs, unit_area, on=\"zoning\", how=\"outer\")\n",
    "etod_lots_tifs"
   ]
  },
  {
   "cell_type": "code",
   "execution_count": 30,
   "metadata": {},
   "outputs": [
    {
     "ename": "KeyError",
     "evalue": "'FAR'",
     "output_type": "error",
     "traceback": [
      "\u001b[0;31m---------------------------------------------------------------------------\u001b[0m",
      "\u001b[0;31mKeyError\u001b[0m                                  Traceback (most recent call last)",
      "File \u001b[0;32m~/Documents/GitHub/KIHC-affordable-housing-analysis/.venv/lib/python3.9/site-packages/pandas/core/indexes/base.py:3805\u001b[0m, in \u001b[0;36mIndex.get_loc\u001b[0;34m(self, key)\u001b[0m\n\u001b[1;32m   3804\u001b[0m \u001b[38;5;28;01mtry\u001b[39;00m:\n\u001b[0;32m-> 3805\u001b[0m     \u001b[38;5;28;01mreturn\u001b[39;00m \u001b[38;5;28;43mself\u001b[39;49m\u001b[38;5;241;43m.\u001b[39;49m\u001b[43m_engine\u001b[49m\u001b[38;5;241;43m.\u001b[39;49m\u001b[43mget_loc\u001b[49m\u001b[43m(\u001b[49m\u001b[43mcasted_key\u001b[49m\u001b[43m)\u001b[49m\n\u001b[1;32m   3806\u001b[0m \u001b[38;5;28;01mexcept\u001b[39;00m \u001b[38;5;167;01mKeyError\u001b[39;00m \u001b[38;5;28;01mas\u001b[39;00m err:\n",
      "File \u001b[0;32mindex.pyx:167\u001b[0m, in \u001b[0;36mpandas._libs.index.IndexEngine.get_loc\u001b[0;34m()\u001b[0m\n",
      "File \u001b[0;32mindex.pyx:196\u001b[0m, in \u001b[0;36mpandas._libs.index.IndexEngine.get_loc\u001b[0;34m()\u001b[0m\n",
      "File \u001b[0;32mpandas/_libs/hashtable_class_helper.pxi:7081\u001b[0m, in \u001b[0;36mpandas._libs.hashtable.PyObjectHashTable.get_item\u001b[0;34m()\u001b[0m\n",
      "File \u001b[0;32mpandas/_libs/hashtable_class_helper.pxi:7089\u001b[0m, in \u001b[0;36mpandas._libs.hashtable.PyObjectHashTable.get_item\u001b[0;34m()\u001b[0m\n",
      "\u001b[0;31mKeyError\u001b[0m: 'FAR'",
      "\nThe above exception was the direct cause of the following exception:\n",
      "\u001b[0;31mKeyError\u001b[0m                                  Traceback (most recent call last)",
      "Cell \u001b[0;32mIn[30], line 5\u001b[0m\n\u001b[1;32m      2\u001b[0m etod_lots_tifs[\u001b[38;5;124m\"\u001b[39m\u001b[38;5;124msq_ft_rentable\u001b[39m\u001b[38;5;124m\"\u001b[39m] \u001b[38;5;241m=\u001b[39m etod_lots_tifs[\u001b[38;5;124m\"\u001b[39m\u001b[38;5;124msq_ft\u001b[39m\u001b[38;5;124m\"\u001b[39m]\u001b[38;5;241m*\u001b[39m\u001b[38;5;241m0.8\u001b[39m\n\u001b[1;32m      4\u001b[0m \u001b[38;5;66;03m#update sqft based on far\u001b[39;00m\n\u001b[0;32m----> 5\u001b[0m etod_lots_tifs[\u001b[38;5;124m\"\u001b[39m\u001b[38;5;124msq_ft_far\u001b[39m\u001b[38;5;124m\"\u001b[39m] \u001b[38;5;241m=\u001b[39m etod_lots_tifs[\u001b[38;5;124m\"\u001b[39m\u001b[38;5;124msq_ft_rentable\u001b[39m\u001b[38;5;124m\"\u001b[39m]\u001b[38;5;241m*\u001b[39m\u001b[43metod_lots_tifs\u001b[49m\u001b[43m[\u001b[49m\u001b[38;5;124;43m\"\u001b[39;49m\u001b[38;5;124;43mFAR\u001b[39;49m\u001b[38;5;124;43m\"\u001b[39;49m\u001b[43m]\u001b[49m\n\u001b[1;32m      7\u001b[0m \u001b[38;5;66;03m#for non residential zoned lots, calculate sq footage above ground floor\u001b[39;00m\n\u001b[1;32m      8\u001b[0m etod_lots_tifs[\u001b[38;5;124m\"\u001b[39m\u001b[38;5;124msq_ft_residential\u001b[39m\u001b[38;5;124m\"\u001b[39m] \u001b[38;5;241m=\u001b[39m np\u001b[38;5;241m.\u001b[39mwhere((etod_lots_tifs[\u001b[38;5;124m\"\u001b[39m\u001b[38;5;124mzone_cat\u001b[39m\u001b[38;5;124m\"\u001b[39m]\u001b[38;5;241m==\u001b[39m\u001b[38;5;124m\"\u001b[39m\u001b[38;5;124mB-Business\u001b[39m\u001b[38;5;124m\"\u001b[39m) \u001b[38;5;241m|\u001b[39m\n\u001b[1;32m      9\u001b[0m                                                (etod_lots_tifs[\u001b[38;5;124m\"\u001b[39m\u001b[38;5;124mzone_cat\u001b[39m\u001b[38;5;124m\"\u001b[39m]\u001b[38;5;241m==\u001b[39m\u001b[38;5;124m\"\u001b[39m\u001b[38;5;124mC-Commercial\u001b[39m\u001b[38;5;124m\"\u001b[39m), \n\u001b[1;32m     10\u001b[0m                                                etod_lots_tifs[\u001b[38;5;124m\"\u001b[39m\u001b[38;5;124msq_ft_far\u001b[39m\u001b[38;5;124m\"\u001b[39m] \u001b[38;5;241m-\u001b[39m etod_lots_tifs[\u001b[38;5;124m\"\u001b[39m\u001b[38;5;124msq_ft_rentable\u001b[39m\u001b[38;5;124m\"\u001b[39m], \n\u001b[1;32m     11\u001b[0m                                                etod_lots_tifs[\u001b[38;5;124m\"\u001b[39m\u001b[38;5;124msq_ft_far\u001b[39m\u001b[38;5;124m\"\u001b[39m])\n",
      "File \u001b[0;32m~/Documents/GitHub/KIHC-affordable-housing-analysis/.venv/lib/python3.9/site-packages/geopandas/geodataframe.py:1750\u001b[0m, in \u001b[0;36mGeoDataFrame.__getitem__\u001b[0;34m(self, key)\u001b[0m\n\u001b[1;32m   1744\u001b[0m \u001b[38;5;28;01mdef\u001b[39;00m\u001b[38;5;250m \u001b[39m\u001b[38;5;21m__getitem__\u001b[39m(\u001b[38;5;28mself\u001b[39m, key):\n\u001b[1;32m   1745\u001b[0m \u001b[38;5;250m    \u001b[39m\u001b[38;5;124;03m\"\"\"\u001b[39;00m\n\u001b[1;32m   1746\u001b[0m \u001b[38;5;124;03m    If the result is a column containing only 'geometry', return a\u001b[39;00m\n\u001b[1;32m   1747\u001b[0m \u001b[38;5;124;03m    GeoSeries. If it's a DataFrame with any columns of GeometryDtype,\u001b[39;00m\n\u001b[1;32m   1748\u001b[0m \u001b[38;5;124;03m    return a GeoDataFrame.\u001b[39;00m\n\u001b[1;32m   1749\u001b[0m \u001b[38;5;124;03m    \"\"\"\u001b[39;00m\n\u001b[0;32m-> 1750\u001b[0m     result \u001b[38;5;241m=\u001b[39m \u001b[38;5;28;43msuper\u001b[39;49m\u001b[43m(\u001b[49m\u001b[43m)\u001b[49m\u001b[38;5;241;43m.\u001b[39;49m\u001b[38;5;21;43m__getitem__\u001b[39;49m\u001b[43m(\u001b[49m\u001b[43mkey\u001b[49m\u001b[43m)\u001b[49m\n\u001b[1;32m   1751\u001b[0m     \u001b[38;5;66;03m# Custom logic to avoid waiting for pandas GH51895\u001b[39;00m\n\u001b[1;32m   1752\u001b[0m     \u001b[38;5;66;03m# result is not geometry dtype for multi-indexes\u001b[39;00m\n\u001b[1;32m   1753\u001b[0m     \u001b[38;5;28;01mif\u001b[39;00m (\n\u001b[1;32m   1754\u001b[0m         pd\u001b[38;5;241m.\u001b[39mapi\u001b[38;5;241m.\u001b[39mtypes\u001b[38;5;241m.\u001b[39mis_scalar(key)\n\u001b[1;32m   1755\u001b[0m         \u001b[38;5;129;01mand\u001b[39;00m key \u001b[38;5;241m==\u001b[39m \u001b[38;5;124m\"\u001b[39m\u001b[38;5;124m\"\u001b[39m\n\u001b[0;32m   (...)\u001b[0m\n\u001b[1;32m   1758\u001b[0m         \u001b[38;5;129;01mand\u001b[39;00m \u001b[38;5;129;01mnot\u001b[39;00m is_geometry_type(result)\n\u001b[1;32m   1759\u001b[0m     ):\n",
      "File \u001b[0;32m~/Documents/GitHub/KIHC-affordable-housing-analysis/.venv/lib/python3.9/site-packages/pandas/core/frame.py:4102\u001b[0m, in \u001b[0;36mDataFrame.__getitem__\u001b[0;34m(self, key)\u001b[0m\n\u001b[1;32m   4100\u001b[0m \u001b[38;5;28;01mif\u001b[39;00m \u001b[38;5;28mself\u001b[39m\u001b[38;5;241m.\u001b[39mcolumns\u001b[38;5;241m.\u001b[39mnlevels \u001b[38;5;241m>\u001b[39m \u001b[38;5;241m1\u001b[39m:\n\u001b[1;32m   4101\u001b[0m     \u001b[38;5;28;01mreturn\u001b[39;00m \u001b[38;5;28mself\u001b[39m\u001b[38;5;241m.\u001b[39m_getitem_multilevel(key)\n\u001b[0;32m-> 4102\u001b[0m indexer \u001b[38;5;241m=\u001b[39m \u001b[38;5;28;43mself\u001b[39;49m\u001b[38;5;241;43m.\u001b[39;49m\u001b[43mcolumns\u001b[49m\u001b[38;5;241;43m.\u001b[39;49m\u001b[43mget_loc\u001b[49m\u001b[43m(\u001b[49m\u001b[43mkey\u001b[49m\u001b[43m)\u001b[49m\n\u001b[1;32m   4103\u001b[0m \u001b[38;5;28;01mif\u001b[39;00m is_integer(indexer):\n\u001b[1;32m   4104\u001b[0m     indexer \u001b[38;5;241m=\u001b[39m [indexer]\n",
      "File \u001b[0;32m~/Documents/GitHub/KIHC-affordable-housing-analysis/.venv/lib/python3.9/site-packages/pandas/core/indexes/base.py:3812\u001b[0m, in \u001b[0;36mIndex.get_loc\u001b[0;34m(self, key)\u001b[0m\n\u001b[1;32m   3807\u001b[0m     \u001b[38;5;28;01mif\u001b[39;00m \u001b[38;5;28misinstance\u001b[39m(casted_key, \u001b[38;5;28mslice\u001b[39m) \u001b[38;5;129;01mor\u001b[39;00m (\n\u001b[1;32m   3808\u001b[0m         \u001b[38;5;28misinstance\u001b[39m(casted_key, abc\u001b[38;5;241m.\u001b[39mIterable)\n\u001b[1;32m   3809\u001b[0m         \u001b[38;5;129;01mand\u001b[39;00m \u001b[38;5;28many\u001b[39m(\u001b[38;5;28misinstance\u001b[39m(x, \u001b[38;5;28mslice\u001b[39m) \u001b[38;5;28;01mfor\u001b[39;00m x \u001b[38;5;129;01min\u001b[39;00m casted_key)\n\u001b[1;32m   3810\u001b[0m     ):\n\u001b[1;32m   3811\u001b[0m         \u001b[38;5;28;01mraise\u001b[39;00m InvalidIndexError(key)\n\u001b[0;32m-> 3812\u001b[0m     \u001b[38;5;28;01mraise\u001b[39;00m \u001b[38;5;167;01mKeyError\u001b[39;00m(key) \u001b[38;5;28;01mfrom\u001b[39;00m\u001b[38;5;250m \u001b[39m\u001b[38;5;21;01merr\u001b[39;00m\n\u001b[1;32m   3813\u001b[0m \u001b[38;5;28;01mexcept\u001b[39;00m \u001b[38;5;167;01mTypeError\u001b[39;00m:\n\u001b[1;32m   3814\u001b[0m     \u001b[38;5;66;03m# If we have a listlike key, _check_indexing_error will raise\u001b[39;00m\n\u001b[1;32m   3815\u001b[0m     \u001b[38;5;66;03m#  InvalidIndexError. Otherwise we fall through and re-raise\u001b[39;00m\n\u001b[1;32m   3816\u001b[0m     \u001b[38;5;66;03m#  the TypeError.\u001b[39;00m\n\u001b[1;32m   3817\u001b[0m     \u001b[38;5;28mself\u001b[39m\u001b[38;5;241m.\u001b[39m_check_indexing_error(key)\n",
      "\u001b[0;31mKeyError\u001b[0m: 'FAR'"
     ]
    }
   ],
   "source": [
    "#assume 20% of all lot square footage cannot be used for unit calculation\n",
    "etod_lots_tifs[\"sq_ft_rentable\"] = etod_lots_tifs[\"sq_ft\"]*0.8\n",
    "\n",
    "#update sqft based on far\n",
    "etod_lots_tifs[\"sq_ft_far\"] = etod_lots_tifs[\"sq_ft_rentable\"]*etod_lots_tifs[\"FAR\"]\n",
    "\n",
    "#for non residential zoned lots, calculate sq footage above ground floor\n",
    "etod_lots_tifs[\"sq_ft_residential\"] = np.where((etod_lots_tifs[\"zone_cat\"]==\"B-Business\") |\n",
    "                                               (etod_lots_tifs[\"zone_cat\"]==\"C-Commercial\"), \n",
    "                                               etod_lots_tifs[\"sq_ft_far\"] - etod_lots_tifs[\"sq_ft_rentable\"], \n",
    "                                               etod_lots_tifs[\"sq_ft_far\"])\n",
    "\n",
    "#assume 720 sq. ft. average unit size unless min unit size is larger\n",
    "etod_lots_tifs[\"avg_unit_size\"] = np.where(etod_lots_tifs[\"lot_area_per_unit\"] > 720, \n",
    "                                           etod_lots_tifs[\"lot_area_per_unit\"], 720)"
   ]
  },
  {
   "cell_type": "code",
   "execution_count": 35,
   "metadata": {},
   "outputs": [],
   "source": [
    "# calculate estimate of number of units per lot\n",
    "# 0 units if residential eligible sq ft is smaller than minimum unit size\n",
    "etod_lots_tifs[\"n_units\"] = np.where(etod_lots_tifs[\"avg_unit_size\"] > etod_lots_tifs[\"sq_ft_residential\"], 0, np.nan)\n",
    "\n",
    "# divide residential eligible sq ft by average unit size for all others and round down\n",
    "etod_lots_tifs[\"n_units\"] = np.where(etod_lots_tifs[\"n_units\"].isna(), \n",
    "                                     np.floor(etod_lots_tifs[\"sq_ft_residential\"]/etod_lots_tifs[\"avg_unit_size\"]), \n",
    "                                     etod_lots_tifs[\"n_units\"])\n",
    "\n",
    "# 1 unit for single family\n",
    "etod_lots_tifs[\"n_units\"] = np.where(etod_lots_tifs[\"zoning\"].isin([\"RS-1\", \"RS-2\", \"RS-3\"]), 1, etod_lots_tifs[\"n_units\"])"
   ]
  },
  {
   "cell_type": "code",
   "execution_count": 36,
   "metadata": {},
   "outputs": [],
   "source": [
    "# calculate average number of units by zone to impute for lots missing sqft info\n",
    "avg_units_zone = etod_lots_tifs.groupby(\"zoning\")[\"n_units\"].mean().reset_index(name=\"imputed_n_units\")\n",
    "etod_lots_tifs = pd.merge(etod_lots_tifs, avg_units_zone, on=\"zoning\", how=\"outer\")\n",
    "\n",
    "# impute\n",
    "etod_lots_tifs[\"n_units\"] = np.where(etod_lots_tifs[\"n_units\"].isna(), \n",
    "                                     np.floor(etod_lots_tifs[\"imputed_n_units\"]),\n",
    "                                     etod_lots_tifs[\"n_units\"])"
   ]
  },
  {
   "cell_type": "code",
   "execution_count": 47,
   "metadata": {},
   "outputs": [
    {
     "data": {
      "text/plain": [
       "np.float64(53282.0)"
      ]
     },
     "execution_count": 47,
     "metadata": {},
     "output_type": "execute_result"
    }
   ],
   "source": [
    "etod_lots_tifs[\"n_units\"].sum(skipna=True)"
   ]
  },
  {
   "cell_type": "code",
   "execution_count": 17,
   "metadata": {},
   "outputs": [],
   "source": [
    "#calculate number of lots by zone and by neighborhood\n",
    "lots_by_zone_neigh = etod_lots_tifs.groupby([\"Community\", \"zoning\"]).size().reset_index(name=\"n_lots\")\n",
    "\n",
    "#calculate number of lots by neighborhood\n",
    "lots_by_neigh = etod_lots_tifs.groupby([\"Community\"]).size().reset_index(name=\"n_lots_neigh\")\n",
    "\n",
    "#calculate number of lots by zone category and neighborhood\n",
    "lots_by_zone_cat = etod_lots_tifs.groupby([\"Community\", \"zone_cat\"]).size().reset_index(name=\"n_lots_cat\")\n"
   ]
  },
  {
   "cell_type": "code",
   "execution_count": 18,
   "metadata": {},
   "outputs": [],
   "source": [
    "#create broader category for zones\n",
    "zone_cats = {\"B-Business\":\"B\", \n",
    "             \"C-Commercial\":\"C\",\n",
    "             \"D-Downtown\": \"D\",\n",
    "             \"PD-Planned Development\":\"PD\",\n",
    "             \"R-Residential\":\"R\"}\n",
    "\n",
    "def map_category(item):\n",
    "    for key, value in zone_cats.items():\n",
    "        if item.startswith(value):  # Check if item starts with dictionary value\n",
    "            return key\n",
    "    return \"Unknown\"  # Default value if no match is found\n",
    "\n",
    "lots_by_zone_neigh[\"zone_cat\"] = lots_by_zone_neigh[\"zoning\"].apply(map_category)"
   ]
  },
  {
   "cell_type": "code",
   "execution_count": 20,
   "metadata": {},
   "outputs": [],
   "source": [
    "#merge all counts together\n",
    "n_lots_neigh_zone = pd.merge(lots_by_zone_neigh, lots_by_neigh, on=\"Community\", how=\"outer\")\n",
    "n_lots_neigh_zone = pd.merge(n_lots_neigh_zone, lots_by_zone_cat, on=[\"Community\", \"zone_cat\"], how=\"outer\")\n",
    "n_lots_neigh_zone = n_lots_neigh_zone.sort_values(by=[\"Community\", \"zoning\"])"
   ]
  },
  {
   "cell_type": "code",
   "execution_count": 45,
   "metadata": {},
   "outputs": [],
   "source": [
    "# calculate number of units by zone\n",
    "etod_lots_tifs.loc[etod_lots_tifs[\"n_units\"] == \"unknown\", \"n_units\"] = np.nan\n",
    "etod_lots_tifs[\"n_units\"] = etod_lots_tifs[\"n_units\"].astype(float)\n",
    "n_units_zone = etod_lots_tifs.groupby(\"zoning\")[\"n_units\"].sum().reset_index(name=\"n_units\")\n",
    "\n",
    "etod_lots_tifs[\"updated_zoning\"] = np.where(etod_lots_tifs[\"re_zone\"]==\"none\", etod_lots_tifs[\"zoning\"], etod_lots_tifs[\"re_zone\"])\n",
    "n_units_zone_og = etod_lots_tifs.groupby(\"updated_zoning\")[\"n_units\"].sum().reset_index(name=\"n_units_rezoned\")\n",
    "\n",
    "n_units_all_zoning = pd.merge(n_units_zone, n_units_zone_og, left_on=\"zoning\", right_on=\"updated_zoning\", how=\"outer\")"
   ]
  },
  {
   "cell_type": "code",
   "execution_count": 46,
   "metadata": {},
   "outputs": [],
   "source": [
    "n_lots_neigh_zone.to_csv(os.path.join(path, \"Data/Processed/vacant_lots_zone_counts.csv\"))\n",
    "n_units_all_zoning.to_csv(os.path.join(path, \"Data/Processed/vacant_lots_unit_counts_by_zone.csv\"))"
   ]
  },
  {
   "cell_type": "code",
   "execution_count": null,
   "metadata": {},
   "outputs": [],
   "source": [
    "#Analysis for buildings for sale and vacant buildings\n",
    "#Data Cleaning\n",
    "#renaming zones\n",
    "sale_buildings_gdf = sale_buildings_gdf.rename(columns={\"ZONE_CLASS\": \"zoning\"})\n",
    "vacant_buildings_gdf = vacant_buildings_gdf.rename(columns={\"ZONE_CLASS\": \"zoning\"})\n",
    "\n",
    "#data cleaning for square foot info \n",
    "sale_buildings_gdf['SqFt'] = sale_buildings_gdf['SqFt'].astype(str)\n",
    "vacant_buildings_gdf['SqFt'] = vacant_buildings_gdf['SqFt'].astype(str)\n",
    "\n",
    "sale_buildings_gdf['SqFt'] = pd.to_numeric(sale_buildings_gdf['SqFt'].str.replace(',', ''), errors='coerce')\n",
    "sale_buildings_gdf['SqFt'] = sale_buildings_gdf['SqFt'].fillna(0.0).astype(int)\n",
    "sale_buildings_gdf.replace({\"SqFt\": 0.0}, np.nan, inplace=True)\n",
    "\n",
    "sale_buildings_gdf[\"SqFt\"] = np.where(\n",
    "    sale_buildings_gdf[\"zoning\"].isin([\"RT-4\", \"RT-3.5\", \"RT-4A\"]) &\n",
    "    sale_buildings_gdf[\"SqFt\"].isna(),\n",
    "    1320, \n",
    "    sale_buildings_gdf[\"SqFt\"]  \n",
    ")\n",
    "\n",
    "vacant_buildings_gdf['SqFt'] = pd.to_numeric(vacant_buildings_gdf['SqFt'].str.replace(',', ''), errors='coerce')\n",
    "vacant_buildings_gdf['SqFt'] = vacant_buildings_gdf['SqFt'].fillna(0.0).astype(int)\n",
    "vacant_buildings_gdf.replace({\"SqFt\": 0.0}, np.nan, inplace=True)\n",
    "\n",
    "vacant_buildings_gdf[\"SqFt\"] = np.where(\n",
    "    vacant_buildings_gdf[\"zoning\"].isin([\"RT-4\", \"RT-3.5\", \"RT-4A\", \"RM-4.5\", \"RM-5\", \"RM-5.5\", \"RM-6.5\"]) &\n",
    "    vacant_buildings_gdf[\"SqFt\"].isna(),\n",
    "    1320,\n",
    "    vacant_buildings_gdf[\"SqFt\"]  \n",
    ")"
   ]
  },
  {
   "cell_type": "code",
   "execution_count": null,
   "metadata": {},
   "outputs": [],
   "source": [
    "\n",
    "#merging with unit area data\n",
    "sale_buildings_gdf = pd.merge(sale_buildings_gdf, unit_area, on=\"zoning\", how=\"outer\")\n",
    "vacant_buildings_gdf = pd.merge(vacant_buildings_gdf, unit_area, on=\"zoning\", how=\"outer\")\n",
    "\n",
    "#update sqft based on far only for RM and RT units missing info. used 1321 bc its a unique identifier for these obs\n",
    "sale_buildings_gdf[\"sq_ft\"] = np.where((sale_buildings_gdf[\"SqFt\"] == 1321),  \n",
    "                                       sale_buildings_gdf[\"SqFt\"]*sale_buildings_gdf[\"FAR\"],\n",
    "                                       sale_buildings_gdf[\"SqFt\"])\n",
    "\n",
    "vacant_buildings_gdf[\"sq_ft\"] = np.where((vacant_buildings_gdf[\"SqFt\"] == 1321),  \n",
    "                                       vacant_buildings_gdf[\"SqFt\"]*vacant_buildings_gdf[\"FAR\"],\n",
    "                                       vacant_buildings_gdf[\"SqFt\"])\n",
    "\n",
    "\n",
    "#for non residential zoned lots, calculate sq footage above ground floor\n",
    "sale_buildings_gdf[\"sq_ft_residential\"] = np.where((sale_buildings_gdf[\"ZONE_CAT\"]==\"B-Business\") |\n",
    "                                               (sale_buildings_gdf[\"ZONE_CAT\"]==\"C-Commercial\"),\n",
    "                                               sale_buildings_gdf[\"sq_ft\"]*.75, \n",
    "                                               sale_buildings_gdf[\"sq_ft\"])\n",
    "\n",
    "#assume 720 sq. ft. average unit size unless min unit size is larger\n",
    "sale_buildings_gdf[\"avg_unit_size\"] = np.where(sale_buildings_gdf[\"lot_area_per_unit\"] > 720, \n",
    "                                           sale_buildings_gdf[\"lot_area_per_unit\"], 720)\n",
    "\n",
    "#for non residential zoned lots, calculate sq footage above ground floor\n",
    "vacant_buildings_gdf[\"sq_ft_residential\"] = np.where((vacant_buildings_gdf[\"ZONE_CAT\"]==\"B-Business\") |\n",
    "                                               (vacant_buildings_gdf[\"ZONE_CAT\"]==\"C-Commercial\"), \n",
    "                                               vacant_buildings_gdf[\"sq_ft\"]*.75, \n",
    "                                               vacant_buildings_gdf[\"sq_ft\"])\n",
    "\n",
    "#assume 720 sq. ft. average unit size unless min unit size is larger\n",
    "vacant_buildings_gdf[\"avg_unit_size\"] = np.where(vacant_buildings_gdf[\"lot_area_per_unit\"] > 720, \n",
    "                                           vacant_buildings_gdf[\"lot_area_per_unit\"], 720)\n"
   ]
  },
  {
   "cell_type": "code",
   "execution_count": null,
   "metadata": {},
   "outputs": [],
   "source": [
    "\n",
    "# calculate estimate of number of units per lot\n",
    "# 0 units if residential eligible sq ft is smaller than minimum unit size\n",
    "sale_buildings_gdf[\"n_units\"] = np.where(sale_buildings_gdf[\"avg_unit_size\"] > sale_buildings_gdf[\"sq_ft_residential\"], 0, np.nan)\n",
    "\n",
    "# divide residential eligible sq ft by average unit size for all others and round down\n",
    "sale_buildings_gdf[\"n_units\"] = np.where(sale_buildings_gdf[\"n_units\"].isna(), \n",
    "                                     np.floor(sale_buildings_gdf[\"sq_ft_residential\"]/sale_buildings_gdf[\"avg_unit_size\"]), \n",
    "                                     sale_buildings_gdf[\"n_units\"])\n",
    "\n",
    "# 1 unit for single family\n",
    "sale_buildings_gdf[\"n_units\"] = np.where(sale_buildings_gdf[\"zoning\"].isin([\"RS-1\", \"RS-2\", \"RS-3\"]), 1, sale_buildings_gdf[\"n_units\"])\n",
    "\n",
    "# calculate estimate of number of units per lot\n",
    "# 0 units if residential eligible sq ft is smaller than minimum unit size\n",
    "vacant_buildings_gdf[\"n_units\"] = np.where(vacant_buildings_gdf[\"avg_unit_size\"] > vacant_buildings_gdf[\"sq_ft_residential\"], 0, np.nan)\n",
    "\n",
    "# divide residential eligible sq ft by average unit size for all others and round down\n",
    "vacant_buildings_gdf[\"n_units\"] = np.where(vacant_buildings_gdf[\"n_units\"].isna(), \n",
    "                                     np.floor(vacant_buildings_gdf[\"sq_ft_residential\"]/vacant_buildings_gdf[\"avg_unit_size\"]), \n",
    "                                     vacant_buildings_gdf[\"n_units\"])\n",
    "\n",
    "# 1 unit for single family\n",
    "vacant_buildings_gdf[\"n_units\"] = np.where(vacant_buildings_gdf[\"zoning\"].isin([\"RS-1\", \"RS-2\", \"RS-3\"]), 1, vacant_buildings_gdf[\"n_units\"])\n",
    "\n"
   ]
  },
  {
   "cell_type": "code",
   "execution_count": null,
   "metadata": {},
   "outputs": [],
   "source": [
    "\n",
    "print(sale_buildings_gdf[\"n_units\"].sum(skipna=True)+vacant_buildings_gdf[\"n_units\"].sum(skipna=True))\n"
   ]
  }
 ],
 "metadata": {
  "kernelspec": {
   "display_name": "Python 3",
   "language": "python",
   "name": "python3"
  },
  "language_info": {
   "codemirror_mode": {
    "name": "ipython",
    "version": 3
   },
   "file_extension": ".py",
   "mimetype": "text/x-python",
   "name": "python",
   "nbconvert_exporter": "python",
   "pygments_lexer": "ipython3",
   "version": "3.12.7"
  }
 },
 "nbformat": 4,
 "nbformat_minor": 2
}
